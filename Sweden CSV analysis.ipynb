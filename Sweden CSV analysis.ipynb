{
 "cells": [
  {
   "cell_type": "code",
   "execution_count": 1,
   "metadata": {
    "ExecuteTime": {
     "end_time": "2019-11-14T22:58:50.279213Z",
     "start_time": "2019-11-14T22:58:47.830221Z"
    }
   },
   "outputs": [],
   "source": [
    "import pandas as pd\n",
    "import numpy as np\n",
    "import matplotlib.pyplot as plt\n",
    "import numpy as np\n",
    "basedir=\"\""
   ]
  },
  {
   "cell_type": "code",
   "execution_count": 2,
   "metadata": {
    "ExecuteTime": {
     "end_time": "2019-11-14T22:58:50.299991Z",
     "start_time": "2019-11-14T22:58:50.283038Z"
    }
   },
   "outputs": [],
   "source": [
    "net_df = pd.read_csv(basedir+\"Sweden/Sweden_Type_of_Power_Net.csv\")"
   ]
  },
  {
   "cell_type": "code",
   "execution_count": 3,
   "metadata": {
    "ExecuteTime": {
     "end_time": "2019-11-14T22:58:50.308967Z",
     "start_time": "2019-11-14T22:58:50.301986Z"
    }
   },
   "outputs": [],
   "source": [
    "net_df\n",
    "sweden_net = net_df.T\n",
    "sweden_net.columns = sweden_net.iloc[0]\n",
    "final_net = sweden_net.drop([\"type of power plants\"])"
   ]
  },
  {
   "cell_type": "code",
   "execution_count": 4,
   "metadata": {
    "ExecuteTime": {
     "end_time": "2019-11-14T22:58:50.335895Z",
     "start_time": "2019-11-14T22:58:50.310964Z"
    }
   },
   "outputs": [
    {
     "data": {
      "text/html": [
       "<div>\n",
       "<style scoped>\n",
       "    .dataframe tbody tr th:only-of-type {\n",
       "        vertical-align: middle;\n",
       "    }\n",
       "\n",
       "    .dataframe tbody tr th {\n",
       "        vertical-align: top;\n",
       "    }\n",
       "\n",
       "    .dataframe thead th {\n",
       "        text-align: right;\n",
       "    }\n",
       "</style>\n",
       "<table border=\"1\" class=\"dataframe\">\n",
       "  <thead>\n",
       "    <tr style=\"text-align: right;\">\n",
       "      <th>type of power plants</th>\n",
       "      <th>sum of supply</th>\n",
       "      <th>hydro</th>\n",
       "      <th>pumped storage</th>\n",
       "      <th>nuclear</th>\n",
       "      <th>main activity producer CHP</th>\n",
       "      <th>autoproducer CHP</th>\n",
       "      <th>wind</th>\n",
       "      <th>solar</th>\n",
       "      <th>condensing turbines</th>\n",
       "      <th>gas-turbines for reserve and others</th>\n",
       "      <th>import</th>\n",
       "    </tr>\n",
       "  </thead>\n",
       "  <tbody>\n",
       "    <tr>\n",
       "      <th>Net 1986</th>\n",
       "      <td>135520</td>\n",
       "      <td>60134</td>\n",
       "      <td>-243</td>\n",
       "      <td>66884</td>\n",
       "      <td>3443</td>\n",
       "      <td>2807</td>\n",
       "      <td>0</td>\n",
       "      <td>0</td>\n",
       "      <td>617</td>\n",
       "      <td>43</td>\n",
       "      <td>1835</td>\n",
       "    </tr>\n",
       "    <tr>\n",
       "      <th>Net 1987</th>\n",
       "      <td>143695</td>\n",
       "      <td>70950</td>\n",
       "      <td>-254</td>\n",
       "      <td>64341</td>\n",
       "      <td>3212</td>\n",
       "      <td>2761</td>\n",
       "      <td>0</td>\n",
       "      <td>0</td>\n",
       "      <td>446</td>\n",
       "      <td>65</td>\n",
       "      <td>2174</td>\n",
       "    </tr>\n",
       "    <tr>\n",
       "      <th>Net 1988</th>\n",
       "      <td>146174</td>\n",
       "      <td>69015</td>\n",
       "      <td>-252</td>\n",
       "      <td>66274</td>\n",
       "      <td>2775</td>\n",
       "      <td>2871</td>\n",
       "      <td>0</td>\n",
       "      <td>0</td>\n",
       "      <td>377</td>\n",
       "      <td>50</td>\n",
       "      <td>5064</td>\n",
       "    </tr>\n",
       "    <tr>\n",
       "      <th>Net 1989</th>\n",
       "      <td>150902</td>\n",
       "      <td>70914</td>\n",
       "      <td>-75</td>\n",
       "      <td>62687</td>\n",
       "      <td>2241</td>\n",
       "      <td>2813</td>\n",
       "      <td>0</td>\n",
       "      <td>0</td>\n",
       "      <td>200</td>\n",
       "      <td>70</td>\n",
       "      <td>12053</td>\n",
       "    </tr>\n",
       "    <tr>\n",
       "      <th>Net 1990</th>\n",
       "      <td>154622</td>\n",
       "      <td>71676</td>\n",
       "      <td>-227</td>\n",
       "      <td>65225</td>\n",
       "      <td>2221</td>\n",
       "      <td>2582</td>\n",
       "      <td>0</td>\n",
       "      <td>0</td>\n",
       "      <td>204</td>\n",
       "      <td>31</td>\n",
       "      <td>12909</td>\n",
       "    </tr>\n",
       "    <tr>\n",
       "      <th>Net 1991</th>\n",
       "      <td>148656</td>\n",
       "      <td>62499</td>\n",
       "      <td>-183</td>\n",
       "      <td>73484</td>\n",
       "      <td>3433</td>\n",
       "      <td>2905</td>\n",
       "      <td>0</td>\n",
       "      <td>0</td>\n",
       "      <td>292</td>\n",
       "      <td>50</td>\n",
       "      <td>6225</td>\n",
       "    </tr>\n",
       "    <tr>\n",
       "      <th>Net 1992</th>\n",
       "      <td>150626</td>\n",
       "      <td>73524</td>\n",
       "      <td>-227</td>\n",
       "      <td>60774</td>\n",
       "      <td>4012</td>\n",
       "      <td>3087</td>\n",
       "      <td>0</td>\n",
       "      <td>0</td>\n",
       "      <td>524</td>\n",
       "      <td>84</td>\n",
       "      <td>8847</td>\n",
       "    </tr>\n",
       "    <tr>\n",
       "      <th>Net 1993</th>\n",
       "      <td>149191</td>\n",
       "      <td>73809</td>\n",
       "      <td>-242</td>\n",
       "      <td>58761</td>\n",
       "      <td>4781</td>\n",
       "      <td>3533</td>\n",
       "      <td>52</td>\n",
       "      <td>0</td>\n",
       "      <td>389</td>\n",
       "      <td>131</td>\n",
       "      <td>7979</td>\n",
       "    </tr>\n",
       "    <tr>\n",
       "      <th>Net 1994</th>\n",
       "      <td>145069</td>\n",
       "      <td>58375</td>\n",
       "      <td>-151</td>\n",
       "      <td>70086</td>\n",
       "      <td>5165</td>\n",
       "      <td>3832</td>\n",
       "      <td>75</td>\n",
       "      <td>0</td>\n",
       "      <td>872</td>\n",
       "      <td>136</td>\n",
       "      <td>6680</td>\n",
       "    </tr>\n",
       "    <tr>\n",
       "      <th>Net 1995</th>\n",
       "      <td>151847</td>\n",
       "      <td>67247</td>\n",
       "      <td>-25</td>\n",
       "      <td>66978</td>\n",
       "      <td>5489</td>\n",
       "      <td>3844</td>\n",
       "      <td>105</td>\n",
       "      <td>0</td>\n",
       "      <td>401</td>\n",
       "      <td>89</td>\n",
       "      <td>7720</td>\n",
       "    </tr>\n",
       "    <tr>\n",
       "      <th>Net 1996</th>\n",
       "      <td>152391</td>\n",
       "      <td>51100</td>\n",
       "      <td>-15</td>\n",
       "      <td>71362</td>\n",
       "      <td>6257</td>\n",
       "      <td>4029</td>\n",
       "      <td>144</td>\n",
       "      <td>0</td>\n",
       "      <td>3622</td>\n",
       "      <td>8</td>\n",
       "      <td>15885</td>\n",
       "    </tr>\n",
       "    <tr>\n",
       "      <th>Net 1997</th>\n",
       "      <td>155492</td>\n",
       "      <td>68227</td>\n",
       "      <td>-19</td>\n",
       "      <td>66914</td>\n",
       "      <td>5284</td>\n",
       "      <td>4220</td>\n",
       "      <td>203</td>\n",
       "      <td>0</td>\n",
       "      <td>387</td>\n",
       "      <td>5</td>\n",
       "      <td>10252</td>\n",
       "    </tr>\n",
       "    <tr>\n",
       "      <th>Net 1998</th>\n",
       "      <td>160654</td>\n",
       "      <td>73846</td>\n",
       "      <td>-17</td>\n",
       "      <td>70500</td>\n",
       "      <td>5686</td>\n",
       "      <td>4002</td>\n",
       "      <td>308</td>\n",
       "      <td>0</td>\n",
       "      <td>224</td>\n",
       "      <td>3</td>\n",
       "      <td>6102</td>\n",
       "    </tr>\n",
       "    <tr>\n",
       "      <th>Net 1999</th>\n",
       "      <td>159226</td>\n",
       "      <td>70872</td>\n",
       "      <td>-10</td>\n",
       "      <td>70200</td>\n",
       "      <td>5220</td>\n",
       "      <td>3887</td>\n",
       "      <td>358</td>\n",
       "      <td>0</td>\n",
       "      <td>239</td>\n",
       "      <td>8</td>\n",
       "      <td>8456</td>\n",
       "    </tr>\n",
       "    <tr>\n",
       "      <th>Net 2000</th>\n",
       "      <td>160181</td>\n",
       "      <td>77862</td>\n",
       "      <td>-14</td>\n",
       "      <td>54772</td>\n",
       "      <td>4370</td>\n",
       "      <td>4151</td>\n",
       "      <td>456</td>\n",
       "      <td>0</td>\n",
       "      <td>251</td>\n",
       "      <td>25</td>\n",
       "      <td>18309</td>\n",
       "    </tr>\n",
       "    <tr>\n",
       "      <th>Net 2001</th>\n",
       "      <td>168799</td>\n",
       "      <td>78428</td>\n",
       "      <td>-10</td>\n",
       "      <td>69211</td>\n",
       "      <td>5120</td>\n",
       "      <td>3918</td>\n",
       "      <td>482</td>\n",
       "      <td>0</td>\n",
       "      <td>462</td>\n",
       "      <td>24</td>\n",
       "      <td>11164</td>\n",
       "    </tr>\n",
       "    <tr>\n",
       "      <th>Net 2002</th>\n",
       "      <td>163344</td>\n",
       "      <td>65827</td>\n",
       "      <td>-16</td>\n",
       "      <td>65550</td>\n",
       "      <td>5650</td>\n",
       "      <td>4552</td>\n",
       "      <td>608</td>\n",
       "      <td>0</td>\n",
       "      <td>1033</td>\n",
       "      <td>30</td>\n",
       "      <td>20110</td>\n",
       "    </tr>\n",
       "    <tr>\n",
       "      <th>Net 2003</th>\n",
       "      <td>156821</td>\n",
       "      <td>53112</td>\n",
       "      <td>-25</td>\n",
       "      <td>65454</td>\n",
       "      <td>6694</td>\n",
       "      <td>4637</td>\n",
       "      <td>679</td>\n",
       "      <td>0</td>\n",
       "      <td>1882</td>\n",
       "      <td>102</td>\n",
       "      <td>24286</td>\n",
       "    </tr>\n",
       "    <tr>\n",
       "      <th>Net 2004</th>\n",
       "      <td>164470</td>\n",
       "      <td>60103</td>\n",
       "      <td>-18</td>\n",
       "      <td>75000</td>\n",
       "      <td>7382</td>\n",
       "      <td>4620</td>\n",
       "      <td>850</td>\n",
       "      <td>0</td>\n",
       "      <td>887</td>\n",
       "      <td>0</td>\n",
       "      <td>15646</td>\n",
       "    </tr>\n",
       "    <tr>\n",
       "      <th>Net 2005</th>\n",
       "      <td>169558</td>\n",
       "      <td>72032</td>\n",
       "      <td>-22</td>\n",
       "      <td>69764</td>\n",
       "      <td>6736</td>\n",
       "      <td>4821</td>\n",
       "      <td>949</td>\n",
       "      <td>0</td>\n",
       "      <td>680</td>\n",
       "      <td>22</td>\n",
       "      <td>14574</td>\n",
       "    </tr>\n",
       "    <tr>\n",
       "      <th>Net 2006</th>\n",
       "      <td>157786</td>\n",
       "      <td>61145</td>\n",
       "      <td>-29</td>\n",
       "      <td>64983</td>\n",
       "      <td>7249</td>\n",
       "      <td>5142</td>\n",
       "      <td>988</td>\n",
       "      <td>0</td>\n",
       "      <td>749</td>\n",
       "      <td>12</td>\n",
       "      <td>17547</td>\n",
       "    </tr>\n",
       "    <tr>\n",
       "      <th>Net 2007</th>\n",
       "      <td>160937</td>\n",
       "      <td>65634</td>\n",
       "      <td>-43</td>\n",
       "      <td>64279</td>\n",
       "      <td>7341</td>\n",
       "      <td>5707</td>\n",
       "      <td>1432</td>\n",
       "      <td>0</td>\n",
       "      <td>510</td>\n",
       "      <td>26</td>\n",
       "      <td>16051</td>\n",
       "    </tr>\n",
       "    <tr>\n",
       "      <th>Net 2008</th>\n",
       "      <td>158715</td>\n",
       "      <td>68595</td>\n",
       "      <td>-46</td>\n",
       "      <td>61266</td>\n",
       "      <td>7402</td>\n",
       "      <td>6063</td>\n",
       "      <td>1996</td>\n",
       "      <td>0</td>\n",
       "      <td>666</td>\n",
       "      <td>19</td>\n",
       "      <td>12754</td>\n",
       "    </tr>\n",
       "    <tr>\n",
       "      <th>Net 2009</th>\n",
       "      <td>146971</td>\n",
       "      <td>64973</td>\n",
       "      <td>-84</td>\n",
       "      <td>49987</td>\n",
       "      <td>9484</td>\n",
       "      <td>5894</td>\n",
       "      <td>2485</td>\n",
       "      <td>0</td>\n",
       "      <td>444</td>\n",
       "      <td>17</td>\n",
       "      <td>13771</td>\n",
       "    </tr>\n",
       "    <tr>\n",
       "      <th>Net 2010</th>\n",
       "      <td>159844</td>\n",
       "      <td>66773</td>\n",
       "      <td>-44</td>\n",
       "      <td>55626</td>\n",
       "      <td>12276</td>\n",
       "      <td>6242</td>\n",
       "      <td>3502</td>\n",
       "      <td>0</td>\n",
       "      <td>517</td>\n",
       "      <td>21</td>\n",
       "      <td>14932</td>\n",
       "    </tr>\n",
       "    <tr>\n",
       "      <th>Net 2011</th>\n",
       "      <td>160009</td>\n",
       "      <td>66661</td>\n",
       "      <td>-52</td>\n",
       "      <td>58026</td>\n",
       "      <td>10180</td>\n",
       "      <td>5790</td>\n",
       "      <td>6101</td>\n",
       "      <td>13</td>\n",
       "      <td>801</td>\n",
       "      <td>9</td>\n",
       "      <td>12481</td>\n",
       "    </tr>\n",
       "    <tr>\n",
       "      <th>Net 2012</th>\n",
       "      <td>174124</td>\n",
       "      <td>78466</td>\n",
       "      <td>-54</td>\n",
       "      <td>61393</td>\n",
       "      <td>9015</td>\n",
       "      <td>6111</td>\n",
       "      <td>7165</td>\n",
       "      <td>19</td>\n",
       "      <td>318</td>\n",
       "      <td>12</td>\n",
       "      <td>11680</td>\n",
       "    </tr>\n",
       "    <tr>\n",
       "      <th>Net 2013</th>\n",
       "      <td>161872</td>\n",
       "      <td>60993</td>\n",
       "      <td>-58</td>\n",
       "      <td>63597</td>\n",
       "      <td>8839</td>\n",
       "      <td>5640</td>\n",
       "      <td>9842</td>\n",
       "      <td>35</td>\n",
       "      <td>300</td>\n",
       "      <td>11</td>\n",
       "      <td>12674</td>\n",
       "    </tr>\n",
       "    <tr>\n",
       "      <th>Net 2014</th>\n",
       "      <td>163808</td>\n",
       "      <td>63380</td>\n",
       "      <td>-46</td>\n",
       "      <td>62185</td>\n",
       "      <td>7151</td>\n",
       "      <td>5583</td>\n",
       "      <td>11234</td>\n",
       "      <td>47</td>\n",
       "      <td>411</td>\n",
       "      <td>11</td>\n",
       "      <td>13852</td>\n",
       "    </tr>\n",
       "    <tr>\n",
       "      <th>Net 2015</th>\n",
       "      <td>168230</td>\n",
       "      <td>74861</td>\n",
       "      <td>-55</td>\n",
       "      <td>54347</td>\n",
       "      <td>7568</td>\n",
       "      <td>5613</td>\n",
       "      <td>16268</td>\n",
       "      <td>97</td>\n",
       "      <td>227</td>\n",
       "      <td>11</td>\n",
       "      <td>9294</td>\n",
       "    </tr>\n",
       "    <tr>\n",
       "      <th>Net 2016</th>\n",
       "      <td>166786</td>\n",
       "      <td>61764</td>\n",
       "      <td>-51</td>\n",
       "      <td>60542</td>\n",
       "      <td>8803</td>\n",
       "      <td>5527</td>\n",
       "      <td>15479</td>\n",
       "      <td>143</td>\n",
       "      <td>278</td>\n",
       "      <td>14</td>\n",
       "      <td>14287</td>\n",
       "    </tr>\n",
       "    <tr>\n",
       "      <th>Net 2017</th>\n",
       "      <td>172377</td>\n",
       "      <td>64676</td>\n",
       "      <td>-44</td>\n",
       "      <td>63008</td>\n",
       "      <td>8703</td>\n",
       "      <td>5986</td>\n",
       "      <td>17609</td>\n",
       "      <td>230</td>\n",
       "      <td>307</td>\n",
       "      <td>8</td>\n",
       "      <td>11896</td>\n",
       "    </tr>\n",
       "  </tbody>\n",
       "</table>\n",
       "</div>"
      ],
      "text/plain": [
       "type of power plants sum of supply  hydro pumped storage nuclear  \\\n",
       "Net 1986                    135520  60134           -243   66884   \n",
       "Net 1987                    143695  70950           -254   64341   \n",
       "Net 1988                    146174  69015           -252   66274   \n",
       "Net 1989                    150902  70914            -75   62687   \n",
       "Net 1990                    154622  71676           -227   65225   \n",
       "Net 1991                    148656  62499           -183   73484   \n",
       "Net 1992                    150626  73524           -227   60774   \n",
       "Net 1993                    149191  73809           -242   58761   \n",
       "Net 1994                    145069  58375           -151   70086   \n",
       "Net 1995                    151847  67247            -25   66978   \n",
       "Net 1996                    152391  51100            -15   71362   \n",
       "Net 1997                    155492  68227            -19   66914   \n",
       "Net 1998                    160654  73846            -17   70500   \n",
       "Net 1999                    159226  70872            -10   70200   \n",
       "Net 2000                    160181  77862            -14   54772   \n",
       "Net 2001                    168799  78428            -10   69211   \n",
       "Net 2002                    163344  65827            -16   65550   \n",
       "Net 2003                    156821  53112            -25   65454   \n",
       "Net 2004                    164470  60103            -18   75000   \n",
       "Net 2005                    169558  72032            -22   69764   \n",
       "Net 2006                    157786  61145            -29   64983   \n",
       "Net 2007                    160937  65634            -43   64279   \n",
       "Net 2008                    158715  68595            -46   61266   \n",
       "Net 2009                    146971  64973            -84   49987   \n",
       "Net 2010                    159844  66773            -44   55626   \n",
       "Net 2011                    160009  66661            -52   58026   \n",
       "Net 2012                    174124  78466            -54   61393   \n",
       "Net 2013                    161872  60993            -58   63597   \n",
       "Net 2014                    163808  63380            -46   62185   \n",
       "Net 2015                    168230  74861            -55   54347   \n",
       "Net 2016                    166786  61764            -51   60542   \n",
       "Net 2017                    172377  64676            -44   63008   \n",
       "\n",
       "type of power plants main activity producer CHP autoproducer CHP   wind solar  \\\n",
       "Net 1986                                   3443             2807      0     0   \n",
       "Net 1987                                   3212             2761      0     0   \n",
       "Net 1988                                   2775             2871      0     0   \n",
       "Net 1989                                   2241             2813      0     0   \n",
       "Net 1990                                   2221             2582      0     0   \n",
       "Net 1991                                   3433             2905      0     0   \n",
       "Net 1992                                   4012             3087      0     0   \n",
       "Net 1993                                   4781             3533     52     0   \n",
       "Net 1994                                   5165             3832     75     0   \n",
       "Net 1995                                   5489             3844    105     0   \n",
       "Net 1996                                   6257             4029    144     0   \n",
       "Net 1997                                   5284             4220    203     0   \n",
       "Net 1998                                   5686             4002    308     0   \n",
       "Net 1999                                   5220             3887    358     0   \n",
       "Net 2000                                   4370             4151    456     0   \n",
       "Net 2001                                   5120             3918    482     0   \n",
       "Net 2002                                   5650             4552    608     0   \n",
       "Net 2003                                   6694             4637    679     0   \n",
       "Net 2004                                   7382             4620    850     0   \n",
       "Net 2005                                   6736             4821    949     0   \n",
       "Net 2006                                   7249             5142    988     0   \n",
       "Net 2007                                   7341             5707   1432     0   \n",
       "Net 2008                                   7402             6063   1996     0   \n",
       "Net 2009                                   9484             5894   2485     0   \n",
       "Net 2010                                  12276             6242   3502     0   \n",
       "Net 2011                                  10180             5790   6101    13   \n",
       "Net 2012                                   9015             6111   7165    19   \n",
       "Net 2013                                   8839             5640   9842    35   \n",
       "Net 2014                                   7151             5583  11234    47   \n",
       "Net 2015                                   7568             5613  16268    97   \n",
       "Net 2016                                   8803             5527  15479   143   \n",
       "Net 2017                                   8703             5986  17609   230   \n",
       "\n",
       "type of power plants condensing turbines gas-turbines for reserve and others  \\\n",
       "Net 1986                             617                                  43   \n",
       "Net 1987                             446                                  65   \n",
       "Net 1988                             377                                  50   \n",
       "Net 1989                             200                                  70   \n",
       "Net 1990                             204                                  31   \n",
       "Net 1991                             292                                  50   \n",
       "Net 1992                             524                                  84   \n",
       "Net 1993                             389                                 131   \n",
       "Net 1994                             872                                 136   \n",
       "Net 1995                             401                                  89   \n",
       "Net 1996                            3622                                   8   \n",
       "Net 1997                             387                                   5   \n",
       "Net 1998                             224                                   3   \n",
       "Net 1999                             239                                   8   \n",
       "Net 2000                             251                                  25   \n",
       "Net 2001                             462                                  24   \n",
       "Net 2002                            1033                                  30   \n",
       "Net 2003                            1882                                 102   \n",
       "Net 2004                             887                                   0   \n",
       "Net 2005                             680                                  22   \n",
       "Net 2006                             749                                  12   \n",
       "Net 2007                             510                                  26   \n",
       "Net 2008                             666                                  19   \n",
       "Net 2009                             444                                  17   \n",
       "Net 2010                             517                                  21   \n",
       "Net 2011                             801                                   9   \n",
       "Net 2012                             318                                  12   \n",
       "Net 2013                             300                                  11   \n",
       "Net 2014                             411                                  11   \n",
       "Net 2015                             227                                  11   \n",
       "Net 2016                             278                                  14   \n",
       "Net 2017                             307                                   8   \n",
       "\n",
       "type of power plants import  \n",
       "Net 1986               1835  \n",
       "Net 1987               2174  \n",
       "Net 1988               5064  \n",
       "Net 1989              12053  \n",
       "Net 1990              12909  \n",
       "Net 1991               6225  \n",
       "Net 1992               8847  \n",
       "Net 1993               7979  \n",
       "Net 1994               6680  \n",
       "Net 1995               7720  \n",
       "Net 1996              15885  \n",
       "Net 1997              10252  \n",
       "Net 1998               6102  \n",
       "Net 1999               8456  \n",
       "Net 2000              18309  \n",
       "Net 2001              11164  \n",
       "Net 2002              20110  \n",
       "Net 2003              24286  \n",
       "Net 2004              15646  \n",
       "Net 2005              14574  \n",
       "Net 2006              17547  \n",
       "Net 2007              16051  \n",
       "Net 2008              12754  \n",
       "Net 2009              13771  \n",
       "Net 2010              14932  \n",
       "Net 2011              12481  \n",
       "Net 2012              11680  \n",
       "Net 2013              12674  \n",
       "Net 2014              13852  \n",
       "Net 2015               9294  \n",
       "Net 2016              14287  \n",
       "Net 2017              11896  "
      ]
     },
     "execution_count": 4,
     "metadata": {},
     "output_type": "execute_result"
    }
   ],
   "source": [
    "final_net.rename(columns = {\"type of power plants\" : \"year\"})\n"
   ]
  },
  {
   "cell_type": "code",
   "execution_count": 150,
   "metadata": {
    "ExecuteTime": {
     "end_time": "2019-11-14T22:58:50.352850Z",
     "start_time": "2019-11-14T22:58:50.336892Z"
    }
   },
   "outputs": [],
   "source": [
    "gross_df = pd.read_csv(basedir+\"Sweden\\Sweden_Type_of_Power_Gross.csv\")"
   ]
  },
  {
   "cell_type": "code",
   "execution_count": 151,
   "metadata": {
    "ExecuteTime": {
     "end_time": "2019-11-14T22:58:50.359835Z",
     "start_time": "2019-11-14T22:58:50.354845Z"
    }
   },
   "outputs": [],
   "source": [
    "gross_df.set_index(\"type of power plants\")\n",
    "sweden_gross = gross_df.T\n",
    "sweden_gross.columns = sweden_gross.iloc[0]\n",
    "final_gross = sweden_gross.drop([\"type of power plants\"])"
   ]
  },
  {
   "cell_type": "code",
   "execution_count": 152,
   "metadata": {
    "ExecuteTime": {
     "end_time": "2019-11-14T22:58:50.370801Z",
     "start_time": "2019-11-14T22:58:50.365815Z"
    }
   },
   "outputs": [],
   "source": [
    "# final_gross"
   ]
  },
  {
   "cell_type": "code",
   "execution_count": 153,
   "metadata": {
    "ExecuteTime": {
     "end_time": "2019-11-14T22:58:50.395735Z",
     "start_time": "2019-11-14T22:58:50.376789Z"
    }
   },
   "outputs": [],
   "source": [
    "Own_df = pd.read_csv(basedir+\"Sweden\\Sweden_Type_of_Power_Own_Use.csv\")"
   ]
  },
  {
   "cell_type": "code",
   "execution_count": 154,
   "metadata": {
    "ExecuteTime": {
     "end_time": "2019-11-14T22:58:50.407703Z",
     "start_time": "2019-11-14T22:58:50.397729Z"
    }
   },
   "outputs": [],
   "source": [
    "Own_df.set_index(\"type of power plants\")\n",
    "sweden_own = Own_df.T\n",
    "sweden_own.columns = sweden_own.iloc[0]\n",
    "final_own = sweden_own.drop([\"type of power plants\"])"
   ]
  },
  {
   "cell_type": "code",
   "execution_count": 155,
   "metadata": {
    "ExecuteTime": {
     "end_time": "2019-11-14T22:58:50.413687Z",
     "start_time": "2019-11-14T22:58:50.409697Z"
    }
   },
   "outputs": [],
   "source": [
    "# final_own"
   ]
  },
  {
   "cell_type": "code",
   "execution_count": 156,
   "metadata": {
    "ExecuteTime": {
     "end_time": "2019-11-14T22:58:50.426660Z",
     "start_time": "2019-11-14T22:58:50.416680Z"
    }
   },
   "outputs": [],
   "source": [
    "# final_own.astype('float64').dtypes\n",
    "# final_net.astype('float64').dtypes\n",
    "# final_gross.astype('float64').dtypes"
   ]
  },
  {
   "cell_type": "code",
   "execution_count": 157,
   "metadata": {
    "ExecuteTime": {
     "end_time": "2019-11-14T22:58:50.442610Z",
     "start_time": "2019-11-14T22:58:50.430646Z"
    }
   },
   "outputs": [],
   "source": [
    "final_own = final_own.reset_index().rename(columns={\"index\":\"Year\"})\n",
    "final_net = final_net.reset_index().rename(columns={\"index\":\"Year\"})\n",
    "final_gross = final_gross.reset_index().rename(columns={\"index\":\"Year\"})"
   ]
  },
  {
   "cell_type": "code",
   "execution_count": 185,
   "metadata": {
    "ExecuteTime": {
     "end_time": "2019-11-14T22:58:50.450591Z",
     "start_time": "2019-11-14T22:58:50.445601Z"
    }
   },
   "outputs": [],
   "source": [
    "final_own = final_own.rename(columns={\"sum of supply\": \"total_supply\"})\n",
    "final_net = final_net.rename(columns={\"sum of supply\": \"total_supply\"})\n",
    "final_gross = final_gross.rename(columns={\"sum of supply\": \"total_supply\"})"
   ]
  },
  {
   "cell_type": "code",
   "execution_count": 186,
   "metadata": {
    "ExecuteTime": {
     "end_time": "2019-11-14T22:58:50.775732Z",
     "start_time": "2019-11-14T22:58:50.452583Z"
    },
    "scrolled": true
   },
   "outputs": [
    {
     "data": {
      "image/png": "[encoded data removed]",
      "text/plain": [
       "<Figure size 1080x720 with 1 Axes>"
      ]
     },
     "metadata": {
      "needs_background": "light"
     },
     "output_type": "display_data"
    }
   ],
   "source": [
    "final_net.drop(\"total_supply\", axis=1).plot.area(figsize = [15,10], title = \"Supply of Electricity, Sweden (1986-2017) in GWh\")\n",
    "plt.show()"
   ]
  },
  {
   "cell_type": "code",
   "execution_count": 117,
   "metadata": {
    "ExecuteTime": {
     "end_time": "2019-11-14T22:58:50.902914Z",
     "start_time": "2019-11-14T22:58:50.777714Z"
    },
    "scrolled": true
   },
   "outputs": [
    {
     "data": {
      "image/png": "[encoded data removed]",
      "text/plain": [
       "<Figure size 432x288 with 1 Axes>"
      ]
     },
     "metadata": {
      "needs_background": "light"
     },
     "output_type": "display_data"
    }
   ],
   "source": [
    "final_net[\"wind\"].plot(grid=True)\n",
    "plt.show()"
   ]
  },
  {
   "cell_type": "code",
   "execution_count": 160,
   "metadata": {
    "ExecuteTime": {
     "end_time": "2019-11-14T22:58:50.908881Z",
     "start_time": "2019-11-14T22:58:50.904888Z"
    }
   },
   "outputs": [],
   "source": [
    "new_df = final_gross.total_supply.values.reshape(-1, 1).astype(\"float64\")\n",
    "# new_df\n",
    "n_df = final_gross.hydro.values.reshape(-1, 1).astype(\"float64\")\n",
    "# new_df"
   ]
  },
  {
   "cell_type": "code",
   "execution_count": 161,
   "metadata": {
    "ExecuteTime": {
     "end_time": "2019-11-14T22:58:50.914864Z",
     "start_time": "2019-11-14T22:58:50.910874Z"
    }
   },
   "outputs": [],
   "source": [
    "# final_net.to_csv(\"sweden_net.csv\")\n",
    "# final_gross.to_csv(\"sweden_gross.csv\")\n",
    "# final_own.to_csv(\"sweden_own.csv\")"
   ]
  },
  {
   "cell_type": "code",
   "execution_count": 162,
   "metadata": {
    "ExecuteTime": {
     "end_time": "2019-11-14T22:58:50.925841Z",
     "start_time": "2019-11-14T22:58:50.917857Z"
    }
   },
   "outputs": [
    {
     "name": "stdout",
     "output_type": "stream",
     "text": [
      "(32, 11) (32, 1)\n"
     ]
    }
   ],
   "source": [
    "X = final_gross.drop(\"total_supply\", axis=1)\n",
    "y = new_df.astype(\"float64\")\n",
    "print(X.shape, y.shape)"
   ]
  },
  {
   "cell_type": "code",
   "execution_count": 163,
   "metadata": {
    "ExecuteTime": {
     "end_time": "2019-11-14T22:58:53.597780Z",
     "start_time": "2019-11-14T22:58:50.927830Z"
    }
   },
   "outputs": [],
   "source": [
    "from sklearn.model_selection import train_test_split\n",
    "\n",
    "X_train, X_test, y_train, y_test = train_test_split(X, y, random_state=89)"
   ]
  },
  {
   "cell_type": "code",
   "execution_count": 164,
   "metadata": {
    "ExecuteTime": {
     "end_time": "2019-11-14T22:58:53.814669Z",
     "start_time": "2019-11-14T22:58:53.598779Z"
    }
   },
   "outputs": [],
   "source": [
    "from sklearn.linear_model import LinearRegression\n",
    "model = LinearRegression()"
   ]
  },
  {
   "cell_type": "code",
   "execution_count": 165,
   "metadata": {
    "ExecuteTime": {
     "end_time": "2019-11-14T22:58:53.824617Z",
     "start_time": "2019-11-14T22:58:53.815639Z"
    }
   },
   "outputs": [
    {
     "name": "stdout",
     "output_type": "stream",
     "text": [
      "Training Score: 0.9999993072644444\n",
      "Testing Score: 0.9999985254626007\n"
     ]
    }
   ],
   "source": [
    "model.fit(X_train, y_train)\n",
    "training_score = model.score(X_train, y_train)\n",
    "testing_score = model.score(X_test, y_test)\n",
    "\n",
    "\n",
    "print(f\"Training Score: {training_score}\")\n",
    "print(f\"Testing Score: {testing_score}\")"
   ]
  },
  {
   "cell_type": "code",
   "execution_count": 166,
   "metadata": {
    "ExecuteTime": {
     "end_time": "2019-11-14T22:58:53.983194Z",
     "start_time": "2019-11-14T22:58:53.826610Z"
    }
   },
   "outputs": [
    {
     "data": {
      "text/plain": [
       "Text(0.5, 1.0, 'Residual Plot')"
      ]
     },
     "execution_count": 166,
     "metadata": {},
     "output_type": "execute_result"
    },
    {
     "data": {
      "image/png": "[encoded data removed]",
      "text/plain": [
       "<Figure size 432x288 with 1 Axes>"
      ]
     },
     "metadata": {
      "needs_background": "light"
     },
     "output_type": "display_data"
    }
   ],
   "source": [
    "plt.scatter(model.predict(X_train), model.predict(X_train) - y_train, c=\"blue\", label=\"Training Data\")\n",
    "plt.scatter(model.predict(X_test), model.predict(X_test) - y_test, c=\"orange\", label=\"Testing Data\")\n",
    "plt.legend()\n",
    "plt.hlines(y=0, xmin=y.min(), xmax=y.max())\n",
    "plt.title(\"Residual Plot\")"
   ]
  },
  {
   "cell_type": "code",
   "execution_count": 144,
   "metadata": {
    "ExecuteTime": {
     "end_time": "2019-11-14T22:58:54.096890Z",
     "start_time": "2019-11-14T22:58:53.985186Z"
    }
   },
   "outputs": [
    {
     "data": {
      "image/png": "[encoded data removed]",
      "text/plain": [
       "<Figure size 432x288 with 1 Axes>"
      ]
     },
     "metadata": {
      "needs_background": "light"
     },
     "output_type": "display_data"
    }
   ],
   "source": [
    "predictions = model.predict(X)\n",
    "# Plot Residuals\n",
    "plt.scatter(predictions, predictions - y)\n",
    "plt.hlines(y=0, xmin=predictions.min(), xmax=predictions.max())\n",
    "plt.show()"
   ]
  },
  {
   "cell_type": "code",
   "execution_count": 145,
   "metadata": {
    "ExecuteTime": {
     "end_time": "2019-11-14T23:05:22.941678Z",
     "start_time": "2019-11-14T23:05:22.936641Z"
    }
   },
   "outputs": [],
   "source": [
    "# predictions"
   ]
  },
  {
   "cell_type": "code",
   "execution_count": 146,
   "metadata": {
    "ExecuteTime": {
     "end_time": "2019-11-14T23:05:23.427929Z",
     "start_time": "2019-11-14T23:05:23.423950Z"
    }
   },
   "outputs": [],
   "source": [
    "# y"
   ]
  },
  {
   "cell_type": "code",
   "execution_count": 167,
   "metadata": {
    "ExecuteTime": {
     "end_time": "2019-11-14T22:58:54.265437Z",
     "start_time": "2019-11-14T22:58:54.113843Z"
    }
   },
   "outputs": [
    {
     "name": "stdout",
     "output_type": "stream",
     "text": [
      "Shape:  (32, 1) (32, 1)\n",
      "Weight coefficients:  [[0.34878042]]\n",
      "y-axis intercept:  [137875.95751622]\n",
      "Min X Value: [[51740.]]\n",
      "Max X Value: [[79061.]]\n",
      "True output: [140486.]\n",
      "Predicted output: [159128.19502928]\n",
      "Prediction Error: [18642.19502928]\n"
     ]
    },
    {
     "data": {
      "image/png": "[encoded data removed]",
      "text/plain": [
       "<Figure size 432x288 with 1 Axes>"
      ]
     },
     "metadata": {
      "needs_background": "light"
     },
     "output_type": "display_data"
    }
   ],
   "source": [
    "X = n_df.astype(\"float64\")\n",
    "y = new_df.astype(\"float64\")\n",
    "\n",
    "print(\"Shape: \", X.shape, y.shape)\n",
    "X\n",
    "plt.scatter(X, y)\n",
    "from sklearn.linear_model import LinearRegression\n",
    "model = LinearRegression()\n",
    "model.fit(X, y)\n",
    "print('Weight coefficients: ', model.coef_)\n",
    "print('y-axis intercept: ', model.intercept_)\n",
    "x_min = np.array([[X.min()]])\n",
    "x_max = np.array([[X.max()]])\n",
    "print(f\"Min X Value: {x_min}\")\n",
    "print(f\"Max X Value: {x_max}\")\n",
    "y_min = model.predict(x_min)\n",
    "y_max = model.predict(x_max)\n",
    "plt.scatter(X, y, c='blue')\n",
    "plt.plot([x_min[0], x_max[0]], [y_min[0], y_max[0]], c='red')\n",
    "predictions = model.predict(X)\n",
    "print(f\"True output: {y[0]}\")\n",
    "print(f\"Predicted output: {predictions[0]}\")\n",
    "print(f\"Prediction Error: {predictions[0]-y[0]}\")"
   ]
  },
  {
   "cell_type": "code",
   "execution_count": 168,
   "metadata": {
    "ExecuteTime": {
     "end_time": "2019-11-14T22:58:54.270424Z",
     "start_time": "2019-11-14T22:58:54.266434Z"
    }
   },
   "outputs": [],
   "source": [
    "merge_df=final_gross.iloc[24:]"
   ]
  },
  {
   "cell_type": "code",
   "execution_count": 169,
   "metadata": {
    "ExecuteTime": {
     "end_time": "2019-11-14T22:58:54.284386Z",
     "start_time": "2019-11-14T22:58:54.272418Z"
    }
   },
   "outputs": [],
   "source": [
    "price_df = pd.read_csv(basedir+\"Sweden\\sweden_electricty_price_10-18.csv\")"
   ]
  },
  {
   "cell_type": "code",
   "execution_count": 170,
   "metadata": {
    "ExecuteTime": {
     "end_time": "2019-11-14T22:58:54.296360Z",
     "start_time": "2019-11-14T22:58:54.286384Z"
    }
   },
   "outputs": [
    {
     "data": {
      "text/html": [
       "<div>\n",
       "<style scoped>\n",
       "    .dataframe tbody tr th:only-of-type {\n",
       "        vertical-align: middle;\n",
       "    }\n",
       "\n",
       "    .dataframe tbody tr th {\n",
       "        vertical-align: top;\n",
       "    }\n",
       "\n",
       "    .dataframe thead th {\n",
       "        text-align: right;\n",
       "    }\n",
       "</style>\n",
       "<table border=\"1\" class=\"dataframe\">\n",
       "  <thead>\n",
       "    <tr style=\"text-align: right;\">\n",
       "      <th></th>\n",
       "      <th>Electricity prices for households in Sweden 2010-2018, annually</th>\n",
       "      <th>Unnamed: 1</th>\n",
       "    </tr>\n",
       "  </thead>\n",
       "  <tbody>\n",
       "    <tr>\n",
       "      <th>0</th>\n",
       "      <td>Electricity prices for households in Sweden fr...</td>\n",
       "      <td>NaN</td>\n",
       "    </tr>\n",
       "    <tr>\n",
       "      <th>1</th>\n",
       "      <td>2010</td>\n",
       "      <td>18.99</td>\n",
       "    </tr>\n",
       "    <tr>\n",
       "      <th>2</th>\n",
       "      <td>2011</td>\n",
       "      <td>20.68</td>\n",
       "    </tr>\n",
       "    <tr>\n",
       "      <th>3</th>\n",
       "      <td>2012</td>\n",
       "      <td>20.55</td>\n",
       "    </tr>\n",
       "    <tr>\n",
       "      <th>4</th>\n",
       "      <td>2013</td>\n",
       "      <td>20.74</td>\n",
       "    </tr>\n",
       "    <tr>\n",
       "      <th>5</th>\n",
       "      <td>2014</td>\n",
       "      <td>19.17</td>\n",
       "    </tr>\n",
       "    <tr>\n",
       "      <th>6</th>\n",
       "      <td>2015</td>\n",
       "      <td>18.63</td>\n",
       "    </tr>\n",
       "    <tr>\n",
       "      <th>7</th>\n",
       "      <td>2016</td>\n",
       "      <td>19.28</td>\n",
       "    </tr>\n",
       "    <tr>\n",
       "      <th>8</th>\n",
       "      <td>2017</td>\n",
       "      <td>19.65</td>\n",
       "    </tr>\n",
       "    <tr>\n",
       "      <th>9</th>\n",
       "      <td>2018</td>\n",
       "      <td>19.41</td>\n",
       "    </tr>\n",
       "  </tbody>\n",
       "</table>\n",
       "</div>"
      ],
      "text/plain": [
       "  Electricity prices for households in Sweden 2010-2018, annually  Unnamed: 1\n",
       "0  Electricity prices for households in Sweden fr...                      NaN\n",
       "1                                               2010                    18.99\n",
       "2                                               2011                    20.68\n",
       "3                                               2012                    20.55\n",
       "4                                               2013                    20.74\n",
       "5                                               2014                    19.17\n",
       "6                                               2015                    18.63\n",
       "7                                               2016                    19.28\n",
       "8                                               2017                    19.65\n",
       "9                                               2018                    19.41"
      ]
     },
     "execution_count": 170,
     "metadata": {},
     "output_type": "execute_result"
    }
   ],
   "source": [
    "price_df"
   ]
  },
  {
   "cell_type": "code",
   "execution_count": 171,
   "metadata": {
    "ExecuteTime": {
     "end_time": "2019-11-14T22:58:54.304332Z",
     "start_time": "2019-11-14T22:58:54.299350Z"
    }
   },
   "outputs": [],
   "source": [
    "price_df = price_df.drop([0])"
   ]
  },
  {
   "cell_type": "code",
   "execution_count": 172,
   "metadata": {
    "ExecuteTime": {
     "end_time": "2019-11-14T22:58:54.313310Z",
     "start_time": "2019-11-14T22:58:54.306328Z"
    }
   },
   "outputs": [],
   "source": [
    "price_df = price_df.rename(columns={\"Electricity prices for households in Sweden 2010-2018, annually\": \"Year\", \"Unnamed: 1\": \"price\"})"
   ]
  },
  {
   "cell_type": "code",
   "execution_count": 173,
   "metadata": {
    "ExecuteTime": {
     "end_time": "2019-11-14T22:58:54.356195Z",
     "start_time": "2019-11-14T22:58:54.316301Z"
    }
   },
   "outputs": [],
   "source": [
    "regress_df = merge_df.set_index('Year').join(price_df.set_index('Year'))"
   ]
  },
  {
   "cell_type": "code",
   "execution_count": 174,
   "metadata": {
    "ExecuteTime": {
     "end_time": "2019-11-14T22:58:54.375143Z",
     "start_time": "2019-11-14T22:58:54.357201Z"
    }
   },
   "outputs": [
    {
     "data": {
      "text/html": [
       "<div>\n",
       "<style scoped>\n",
       "    .dataframe tbody tr th:only-of-type {\n",
       "        vertical-align: middle;\n",
       "    }\n",
       "\n",
       "    .dataframe tbody tr th {\n",
       "        vertical-align: top;\n",
       "    }\n",
       "\n",
       "    .dataframe thead th {\n",
       "        text-align: right;\n",
       "    }\n",
       "</style>\n",
       "<table border=\"1\" class=\"dataframe\">\n",
       "  <thead>\n",
       "    <tr style=\"text-align: right;\">\n",
       "      <th></th>\n",
       "      <th>total_supply</th>\n",
       "      <th>hydro</th>\n",
       "      <th>pumped storage</th>\n",
       "      <th>nuclear</th>\n",
       "      <th>main activity producer CHP</th>\n",
       "      <th>autoproducer CHP</th>\n",
       "      <th>wind</th>\n",
       "      <th>solar</th>\n",
       "      <th>condensing turbines</th>\n",
       "      <th>gas-turbines for reserve and others</th>\n",
       "      <th>import</th>\n",
       "      <th>price</th>\n",
       "    </tr>\n",
       "    <tr>\n",
       "      <th>Year</th>\n",
       "      <th></th>\n",
       "      <th></th>\n",
       "      <th></th>\n",
       "      <th></th>\n",
       "      <th></th>\n",
       "      <th></th>\n",
       "      <th></th>\n",
       "      <th></th>\n",
       "      <th></th>\n",
       "      <th></th>\n",
       "      <th></th>\n",
       "      <th></th>\n",
       "    </tr>\n",
       "  </thead>\n",
       "  <tbody>\n",
       "    <tr>\n",
       "      <th>2010</th>\n",
       "      <td>163187</td>\n",
       "      <td>67176</td>\n",
       "      <td>103</td>\n",
       "      <td>57728</td>\n",
       "      <td>12721</td>\n",
       "      <td>6468</td>\n",
       "      <td>3502</td>\n",
       "      <td>0</td>\n",
       "      <td>535</td>\n",
       "      <td>22</td>\n",
       "      <td>14932</td>\n",
       "      <td>18.99</td>\n",
       "    </tr>\n",
       "    <tr>\n",
       "      <th>2011</th>\n",
       "      <td>163644</td>\n",
       "      <td>67064</td>\n",
       "      <td>122</td>\n",
       "      <td>60475</td>\n",
       "      <td>10549</td>\n",
       "      <td>6000</td>\n",
       "      <td>6101</td>\n",
       "      <td>13</td>\n",
       "      <td>830</td>\n",
       "      <td>10</td>\n",
       "      <td>12481</td>\n",
       "      <td>20.68</td>\n",
       "    </tr>\n",
       "    <tr>\n",
       "      <th>2012</th>\n",
       "      <td>177982</td>\n",
       "      <td>78939</td>\n",
       "      <td>126</td>\n",
       "      <td>64037</td>\n",
       "      <td>9341</td>\n",
       "      <td>6333</td>\n",
       "      <td>7165</td>\n",
       "      <td>19</td>\n",
       "      <td>329</td>\n",
       "      <td>12</td>\n",
       "      <td>11680</td>\n",
       "      <td>20.55</td>\n",
       "    </tr>\n",
       "    <tr>\n",
       "      <th>2013</th>\n",
       "      <td>165829</td>\n",
       "      <td>61361</td>\n",
       "      <td>135</td>\n",
       "      <td>66457</td>\n",
       "      <td>9159</td>\n",
       "      <td>5844</td>\n",
       "      <td>9842</td>\n",
       "      <td>35</td>\n",
       "      <td>311</td>\n",
       "      <td>11</td>\n",
       "      <td>12674</td>\n",
       "      <td>20.74</td>\n",
       "    </tr>\n",
       "    <tr>\n",
       "      <th>2014</th>\n",
       "      <td>167514</td>\n",
       "      <td>63763</td>\n",
       "      <td>108</td>\n",
       "      <td>64877</td>\n",
       "      <td>7410</td>\n",
       "      <td>5785</td>\n",
       "      <td>11234</td>\n",
       "      <td>47</td>\n",
       "      <td>426</td>\n",
       "      <td>12</td>\n",
       "      <td>13852</td>\n",
       "      <td>19.17</td>\n",
       "    </tr>\n",
       "    <tr>\n",
       "      <th>2015</th>\n",
       "      <td>171352</td>\n",
       "      <td>75312</td>\n",
       "      <td>127</td>\n",
       "      <td>56348</td>\n",
       "      <td>7843</td>\n",
       "      <td>5816</td>\n",
       "      <td>16268</td>\n",
       "      <td>97</td>\n",
       "      <td>235</td>\n",
       "      <td>11</td>\n",
       "      <td>9294</td>\n",
       "      <td>18.63</td>\n",
       "    </tr>\n",
       "    <tr>\n",
       "      <th>2016</th>\n",
       "      <td>170418</td>\n",
       "      <td>62137</td>\n",
       "      <td>119</td>\n",
       "      <td>63101</td>\n",
       "      <td>9122</td>\n",
       "      <td>5727</td>\n",
       "      <td>15479</td>\n",
       "      <td>143</td>\n",
       "      <td>288</td>\n",
       "      <td>14</td>\n",
       "      <td>14287</td>\n",
       "      <td>19.28</td>\n",
       "    </tr>\n",
       "    <tr>\n",
       "      <th>2017</th>\n",
       "      <td>176146</td>\n",
       "      <td>65066</td>\n",
       "      <td>102</td>\n",
       "      <td>65696</td>\n",
       "      <td>9018</td>\n",
       "      <td>6203</td>\n",
       "      <td>17609</td>\n",
       "      <td>230</td>\n",
       "      <td>318</td>\n",
       "      <td>8</td>\n",
       "      <td>11896</td>\n",
       "      <td>19.65</td>\n",
       "    </tr>\n",
       "  </tbody>\n",
       "</table>\n",
       "</div>"
      ],
      "text/plain": [
       "     total_supply  hydro pumped storage nuclear main activity producer CHP  \\\n",
       "Year                                                                         \n",
       "2010       163187  67176            103   57728                      12721   \n",
       "2011       163644  67064            122   60475                      10549   \n",
       "2012       177982  78939            126   64037                       9341   \n",
       "2013       165829  61361            135   66457                       9159   \n",
       "2014       167514  63763            108   64877                       7410   \n",
       "2015       171352  75312            127   56348                       7843   \n",
       "2016       170418  62137            119   63101                       9122   \n",
       "2017       176146  65066            102   65696                       9018   \n",
       "\n",
       "     autoproducer CHP   wind solar condensing turbines  \\\n",
       "Year                                                     \n",
       "2010             6468   3502     0                 535   \n",
       "2011             6000   6101    13                 830   \n",
       "2012             6333   7165    19                 329   \n",
       "2013             5844   9842    35                 311   \n",
       "2014             5785  11234    47                 426   \n",
       "2015             5816  16268    97                 235   \n",
       "2016             5727  15479   143                 288   \n",
       "2017             6203  17609   230                 318   \n",
       "\n",
       "     gas-turbines for reserve and others import  price  \n",
       "Year                                                    \n",
       "2010                                  22  14932  18.99  \n",
       "2011                                  10  12481  20.68  \n",
       "2012                                  12  11680  20.55  \n",
       "2013                                  11  12674  20.74  \n",
       "2014                                  12  13852  19.17  \n",
       "2015                                  11   9294  18.63  \n",
       "2016                                  14  14287  19.28  \n",
       "2017                                   8  11896  19.65  "
      ]
     },
     "execution_count": 174,
     "metadata": {},
     "output_type": "execute_result"
    }
   ],
   "source": [
    "regress_df"
   ]
  },
  {
   "cell_type": "code",
   "execution_count": 175,
   "metadata": {
    "ExecuteTime": {
     "end_time": "2019-11-14T22:59:02.928097Z",
     "start_time": "2019-11-14T22:59:02.920119Z"
    }
   },
   "outputs": [
    {
     "name": "stdout",
     "output_type": "stream",
     "text": [
      "Shape:  (8, 1) (8, 1)\n"
     ]
    }
   ],
   "source": [
    "X = regress_df.total_supply.values.reshape(-1, 1)\n",
    "y = regress_df.price.values.reshape(-1, 1)\n",
    "\n",
    "print(\"Shape: \", X.shape, y.shape)"
   ]
  },
  {
   "cell_type": "code",
   "execution_count": 176,
   "metadata": {
    "ExecuteTime": {
     "end_time": "2019-11-14T22:59:04.205567Z",
     "start_time": "2019-11-14T22:59:04.083386Z"
    }
   },
   "outputs": [
    {
     "data": {
      "text/plain": [
       "<matplotlib.collections.PathCollection at 0x2778374f408>"
      ]
     },
     "execution_count": 176,
     "metadata": {},
     "output_type": "execute_result"
    },
    {
     "data": {
      "image/png": "[encoded data removed]",
      "text/plain": [
       "<Figure size 432x288 with 1 Axes>"
      ]
     },
     "metadata": {
      "needs_background": "light"
     },
     "output_type": "display_data"
    }
   ],
   "source": [
    "plt.scatter(X, y)"
   ]
  },
  {
   "cell_type": "code",
   "execution_count": 177,
   "metadata": {
    "ExecuteTime": {
     "end_time": "2019-11-14T22:59:06.400571Z",
     "start_time": "2019-11-14T22:59:06.266403Z"
    }
   },
   "outputs": [
    {
     "name": "stdout",
     "output_type": "stream",
     "text": [
      "Weight coefficients:  [[2.29994644e-06]]\n",
      "y-axis intercept:  [19.32138838]\n",
      "Min X Value: [[163187]]\n",
      "Max X Value: [[177982]]\n",
      "True output: [18.99]\n",
      "Predicted output: [19.69670974]\n",
      "Prediction Error: [0.70670974]\n"
     ]
    },
    {
     "data": {
      "image/png": "[encoded data removed]",
      "text/plain": [
       "<Figure size 432x288 with 1 Axes>"
      ]
     },
     "metadata": {
      "needs_background": "light"
     },
     "output_type": "display_data"
    }
   ],
   "source": [
    "model = LinearRegression()\n",
    "model.fit(X, y)\n",
    "print('Weight coefficients: ', model.coef_)\n",
    "print('y-axis intercept: ', model.intercept_)\n",
    "x_min = np.array([[X.min()]])\n",
    "x_max = np.array([[X.max()]])\n",
    "print(f\"Min X Value: {x_min}\")\n",
    "print(f\"Max X Value: {x_max}\")\n",
    "y_min = model.predict(x_min)\n",
    "y_max = model.predict(x_max)\n",
    "plt.scatter(X, y, c='blue')\n",
    "plt.plot([x_min[0], x_max[0]], [y_min[0], y_max[0]], c='red')\n",
    "predictions = model.predict(X)\n",
    "print(f\"True output: {y[0]}\")\n",
    "print(f\"Predicted output: {predictions[0]}\")\n",
    "print(f\"Prediction Error: {predictions[0]-y[0]}\")"
   ]
  },
  {
   "cell_type": "code",
   "execution_count": 178,
   "metadata": {
    "ExecuteTime": {
     "end_time": "2019-11-15T00:59:32.086008Z",
     "start_time": "2019-11-15T00:59:32.074046Z"
    }
   },
   "outputs": [],
   "source": [
    "cons_df = pd.read_csv(basedir + \"Sweden\\Sweden_Electricty_Consumption.csv\")"
   ]
  },
  {
   "cell_type": "code",
   "execution_count": 179,
   "metadata": {
    "ExecuteTime": {
     "end_time": "2019-11-15T00:59:32.312009Z",
     "start_time": "2019-11-15T00:59:32.306215Z"
    }
   },
   "outputs": [],
   "source": [
    "cons_df\n",
    "sweden_cons = cons_df.T\n",
    "sweden_cons.columns = sweden_cons.iloc[0]"
   ]
  },
  {
   "cell_type": "code",
   "execution_count": 180,
   "metadata": {
    "ExecuteTime": {
     "end_time": "2019-11-15T00:59:32.591336Z",
     "start_time": "2019-11-15T00:59:32.559422Z"
    }
   },
   "outputs": [
    {
     "data": {
      "text/html": [
       "<div>\n",
       "<style scoped>\n",
       "    .dataframe tbody tr th:only-of-type {\n",
       "        vertical-align: middle;\n",
       "    }\n",
       "\n",
       "    .dataframe tbody tr th {\n",
       "        vertical-align: top;\n",
       "    }\n",
       "\n",
       "    .dataframe thead th {\n",
       "        text-align: right;\n",
       "    }\n",
       "</style>\n",
       "<table border=\"1\" class=\"dataframe\">\n",
       "  <thead>\n",
       "    <tr style=\"text-align: right;\">\n",
       "      <th>Unnamed: 0</th>\n",
       "      <th>Year</th>\n",
       "      <th>Total electricity consumption</th>\n",
       "      <th>Export</th>\n",
       "      <th>Crop and animal production- with consumption exceeding 20 000 kWh</th>\n",
       "      <th>Crop and animal production  -with consumption up to 20 000 kWh</th>\n",
       "      <th>Manufacturing industry,  mining and quarrying</th>\n",
       "      <th>Electricity supply (offices, warehouses etc.)</th>\n",
       "      <th>Gas production; distribution of gaseous fuels through mains and pipeline networks</th>\n",
       "      <th>Heating and cooling supply, Electricity supply (offices, warehouses etc.)</th>\n",
       "      <th>Heating and cooling supply, Gas supply (manuf./distr. of gas-works gas and natural gas)</th>\n",
       "      <th>...</th>\n",
       "      <th>Public administration and military defence</th>\n",
       "      <th>Education</th>\n",
       "      <th>Human health activities</th>\n",
       "      <th>Activities of membership organisations</th>\n",
       "      <th>Creative, arts and entertainment activities</th>\n",
       "      <th>-one- or two family houses with consumption exceeding 10 000 kWh</th>\n",
       "      <th>-one- or two family houses with consumption up  to 10 000 kWh</th>\n",
       "      <th>-multi family houses, direct delivery, with consumption exceeding 5 000 kWh</th>\n",
       "      <th>-multi family houses, direct delivery, with consumtion up to 5 000 kWh</th>\n",
       "      <th>Second homes</th>\n",
       "    </tr>\n",
       "  </thead>\n",
       "  <tbody>\n",
       "    <tr>\n",
       "      <th>1</th>\n",
       "      <td>2008</td>\n",
       "      <td>158716</td>\n",
       "      <td>14716</td>\n",
       "      <td>1644</td>\n",
       "      <td>1004</td>\n",
       "      <td>56625</td>\n",
       "      <td>113</td>\n",
       "      <td>76</td>\n",
       "      <td>1906</td>\n",
       "      <td>1721</td>\n",
       "      <td>...</td>\n",
       "      <td>1077</td>\n",
       "      <td>2590</td>\n",
       "      <td>3353</td>\n",
       "      <td>1054</td>\n",
       "      <td>1516</td>\n",
       "      <td>20024</td>\n",
       "      <td>5144</td>\n",
       "      <td>1131</td>\n",
       "      <td>4347</td>\n",
       "      <td>2320</td>\n",
       "    </tr>\n",
       "    <tr>\n",
       "      <th>2</th>\n",
       "      <td>2009</td>\n",
       "      <td>146971</td>\n",
       "      <td>9085</td>\n",
       "      <td>2072</td>\n",
       "      <td>973</td>\n",
       "      <td>50657</td>\n",
       "      <td>131</td>\n",
       "      <td>131</td>\n",
       "      <td>1983</td>\n",
       "      <td>1634</td>\n",
       "      <td>...</td>\n",
       "      <td>1004</td>\n",
       "      <td>2548</td>\n",
       "      <td>2789</td>\n",
       "      <td>855</td>\n",
       "      <td>1974</td>\n",
       "      <td>20363</td>\n",
       "      <td>4498</td>\n",
       "      <td>1396</td>\n",
       "      <td>4203</td>\n",
       "      <td>2998</td>\n",
       "    </tr>\n",
       "    <tr>\n",
       "      <th>3</th>\n",
       "      <td>2010</td>\n",
       "      <td>159844</td>\n",
       "      <td>12853</td>\n",
       "      <td>2289</td>\n",
       "      <td>895</td>\n",
       "      <td>53359</td>\n",
       "      <td>165</td>\n",
       "      <td>93</td>\n",
       "      <td>2007</td>\n",
       "      <td>1603</td>\n",
       "      <td>...</td>\n",
       "      <td>1147</td>\n",
       "      <td>2579</td>\n",
       "      <td>2939</td>\n",
       "      <td>1141</td>\n",
       "      <td>1818</td>\n",
       "      <td>23080</td>\n",
       "      <td>4700</td>\n",
       "      <td>1461</td>\n",
       "      <td>4276</td>\n",
       "      <td>3263</td>\n",
       "    </tr>\n",
       "    <tr>\n",
       "      <th>4</th>\n",
       "      <td>2011</td>\n",
       "      <td>160009</td>\n",
       "      <td>19714</td>\n",
       "      <td>1996</td>\n",
       "      <td>997</td>\n",
       "      <td>53843</td>\n",
       "      <td>208</td>\n",
       "      <td>90</td>\n",
       "      <td>2063</td>\n",
       "      <td>1333</td>\n",
       "      <td>...</td>\n",
       "      <td>1407</td>\n",
       "      <td>2367</td>\n",
       "      <td>2689</td>\n",
       "      <td>823</td>\n",
       "      <td>1402</td>\n",
       "      <td>19529</td>\n",
       "      <td>4789</td>\n",
       "      <td>1737</td>\n",
       "      <td>4321</td>\n",
       "      <td>2749</td>\n",
       "    </tr>\n",
       "    <tr>\n",
       "      <th>5</th>\n",
       "      <td>2012</td>\n",
       "      <td>174124</td>\n",
       "      <td>31254</td>\n",
       "      <td>2184</td>\n",
       "      <td>966</td>\n",
       "      <td>52981</td>\n",
       "      <td>197</td>\n",
       "      <td>123</td>\n",
       "      <td>2094</td>\n",
       "      <td>1793</td>\n",
       "      <td>...</td>\n",
       "      <td>1479</td>\n",
       "      <td>2290</td>\n",
       "      <td>2590</td>\n",
       "      <td>857</td>\n",
       "      <td>1427</td>\n",
       "      <td>20719</td>\n",
       "      <td>4919</td>\n",
       "      <td>1598</td>\n",
       "      <td>4219</td>\n",
       "      <td>3043</td>\n",
       "    </tr>\n",
       "    <tr>\n",
       "      <th>6</th>\n",
       "      <td>2013</td>\n",
       "      <td>161872</td>\n",
       "      <td>22676</td>\n",
       "      <td>2143</td>\n",
       "      <td>966</td>\n",
       "      <td>50935</td>\n",
       "      <td>205</td>\n",
       "      <td>110</td>\n",
       "      <td>2001</td>\n",
       "      <td>1459</td>\n",
       "      <td>...</td>\n",
       "      <td>1438</td>\n",
       "      <td>2173</td>\n",
       "      <td>2637</td>\n",
       "      <td>793</td>\n",
       "      <td>1419</td>\n",
       "      <td>20357</td>\n",
       "      <td>4805</td>\n",
       "      <td>1584</td>\n",
       "      <td>4180</td>\n",
       "      <td>2964</td>\n",
       "    </tr>\n",
       "    <tr>\n",
       "      <th>7</th>\n",
       "      <td>2014</td>\n",
       "      <td>163808</td>\n",
       "      <td>29475</td>\n",
       "      <td>2029</td>\n",
       "      <td>969</td>\n",
       "      <td>49552</td>\n",
       "      <td>162</td>\n",
       "      <td>118</td>\n",
       "      <td>1940</td>\n",
       "      <td>1804</td>\n",
       "      <td>...</td>\n",
       "      <td>1416</td>\n",
       "      <td>2088</td>\n",
       "      <td>2532</td>\n",
       "      <td>743</td>\n",
       "      <td>1376</td>\n",
       "      <td>18931</td>\n",
       "      <td>4805</td>\n",
       "      <td>1363</td>\n",
       "      <td>4193</td>\n",
       "      <td>2851</td>\n",
       "    </tr>\n",
       "    <tr>\n",
       "      <th>8</th>\n",
       "      <td>2015</td>\n",
       "      <td>168230</td>\n",
       "      <td>31894</td>\n",
       "      <td>2170</td>\n",
       "      <td>979</td>\n",
       "      <td>48784</td>\n",
       "      <td>214</td>\n",
       "      <td>129</td>\n",
       "      <td>1910</td>\n",
       "      <td>1474</td>\n",
       "      <td>...</td>\n",
       "      <td>1390</td>\n",
       "      <td>2151</td>\n",
       "      <td>2534</td>\n",
       "      <td>816</td>\n",
       "      <td>1373</td>\n",
       "      <td>19975</td>\n",
       "      <td>4722</td>\n",
       "      <td>1385</td>\n",
       "      <td>4210</td>\n",
       "      <td>3047</td>\n",
       "    </tr>\n",
       "    <tr>\n",
       "      <th>9</th>\n",
       "      <td>2016</td>\n",
       "      <td>166786</td>\n",
       "      <td>26022</td>\n",
       "      <td>2215</td>\n",
       "      <td>1012</td>\n",
       "      <td>49506</td>\n",
       "      <td>222</td>\n",
       "      <td>168</td>\n",
       "      <td>2088</td>\n",
       "      <td>1443</td>\n",
       "      <td>...</td>\n",
       "      <td>1451</td>\n",
       "      <td>2073</td>\n",
       "      <td>2606</td>\n",
       "      <td>793</td>\n",
       "      <td>1387</td>\n",
       "      <td>21210</td>\n",
       "      <td>4596</td>\n",
       "      <td>1436</td>\n",
       "      <td>4195</td>\n",
       "      <td>3212</td>\n",
       "    </tr>\n",
       "    <tr>\n",
       "      <th>10</th>\n",
       "      <td>2017</td>\n",
       "      <td>172377</td>\n",
       "      <td>30888</td>\n",
       "      <td>2028</td>\n",
       "      <td>832</td>\n",
       "      <td>49063</td>\n",
       "      <td>174</td>\n",
       "      <td>114</td>\n",
       "      <td>2172</td>\n",
       "      <td>1544</td>\n",
       "      <td>...</td>\n",
       "      <td>1611</td>\n",
       "      <td>2120</td>\n",
       "      <td>2634</td>\n",
       "      <td>906</td>\n",
       "      <td>1418</td>\n",
       "      <td>22563</td>\n",
       "      <td>4386</td>\n",
       "      <td>1098</td>\n",
       "      <td>4140</td>\n",
       "      <td>3040</td>\n",
       "    </tr>\n",
       "  </tbody>\n",
       "</table>\n",
       "<p>10 rows × 37 columns</p>\n",
       "</div>"
      ],
      "text/plain": [
       "Unnamed: 0  Year Total electricity consumption Export  \\\n",
       "1           2008                        158716  14716   \n",
       "2           2009                        146971   9085   \n",
       "3           2010                        159844  12853   \n",
       "4           2011                        160009  19714   \n",
       "5           2012                        174124  31254   \n",
       "6           2013                        161872  22676   \n",
       "7           2014                        163808  29475   \n",
       "8           2015                        168230  31894   \n",
       "9           2016                        166786  26022   \n",
       "10          2017                        172377  30888   \n",
       "\n",
       "Unnamed: 0 Crop and animal production- with consumption exceeding 20 000 kWh  \\\n",
       "1                                                        1644                  \n",
       "2                                                        2072                  \n",
       "3                                                        2289                  \n",
       "4                                                        1996                  \n",
       "5                                                        2184                  \n",
       "6                                                        2143                  \n",
       "7                                                        2029                  \n",
       "8                                                        2170                  \n",
       "9                                                        2215                  \n",
       "10                                                       2028                  \n",
       "\n",
       "Unnamed: 0 Crop and animal production  -with consumption up to 20 000 kWh  \\\n",
       "1                                                        1004               \n",
       "2                                                         973               \n",
       "3                                                         895               \n",
       "4                                                         997               \n",
       "5                                                         966               \n",
       "6                                                         966               \n",
       "7                                                         969               \n",
       "8                                                         979               \n",
       "9                                                        1012               \n",
       "10                                                        832               \n",
       "\n",
       "Unnamed: 0 Manufacturing industry,  mining and quarrying  \\\n",
       "1                                                  56625   \n",
       "2                                                  50657   \n",
       "3                                                  53359   \n",
       "4                                                  53843   \n",
       "5                                                  52981   \n",
       "6                                                  50935   \n",
       "7                                                  49552   \n",
       "8                                                  48784   \n",
       "9                                                  49506   \n",
       "10                                                 49063   \n",
       "\n",
       "Unnamed: 0 Electricity supply (offices, warehouses etc.)  \\\n",
       "1                                                    113   \n",
       "2                                                    131   \n",
       "3                                                    165   \n",
       "4                                                    208   \n",
       "5                                                    197   \n",
       "6                                                    205   \n",
       "7                                                    162   \n",
       "8                                                    214   \n",
       "9                                                    222   \n",
       "10                                                   174   \n",
       "\n",
       "Unnamed: 0 Gas production; distribution of gaseous fuels through mains and pipeline networks  \\\n",
       "1                                                          76                                  \n",
       "2                                                         131                                  \n",
       "3                                                          93                                  \n",
       "4                                                          90                                  \n",
       "5                                                         123                                  \n",
       "6                                                         110                                  \n",
       "7                                                         118                                  \n",
       "8                                                         129                                  \n",
       "9                                                         168                                  \n",
       "10                                                        114                                  \n",
       "\n",
       "Unnamed: 0 Heating and cooling supply, Electricity supply (offices, warehouses etc.)  \\\n",
       "1                                                        1906                          \n",
       "2                                                        1983                          \n",
       "3                                                        2007                          \n",
       "4                                                        2063                          \n",
       "5                                                        2094                          \n",
       "6                                                        2001                          \n",
       "7                                                        1940                          \n",
       "8                                                        1910                          \n",
       "9                                                        2088                          \n",
       "10                                                       2172                          \n",
       "\n",
       "Unnamed: 0 Heating and cooling supply, Gas supply (manuf./distr. of gas-works gas and natural gas)  \\\n",
       "1                                                        1721                                        \n",
       "2                                                        1634                                        \n",
       "3                                                        1603                                        \n",
       "4                                                        1333                                        \n",
       "5                                                        1793                                        \n",
       "6                                                        1459                                        \n",
       "7                                                        1804                                        \n",
       "8                                                        1474                                        \n",
       "9                                                        1443                                        \n",
       "10                                                       1544                                        \n",
       "\n",
       "Unnamed: 0  ... Public administration and military defence Education  \\\n",
       "1           ...                                       1077      2590   \n",
       "2           ...                                       1004      2548   \n",
       "3           ...                                       1147      2579   \n",
       "4           ...                                       1407      2367   \n",
       "5           ...                                       1479      2290   \n",
       "6           ...                                       1438      2173   \n",
       "7           ...                                       1416      2088   \n",
       "8           ...                                       1390      2151   \n",
       "9           ...                                       1451      2073   \n",
       "10          ...                                       1611      2120   \n",
       "\n",
       "Unnamed: 0 Human health activities Activities of membership organisations  \\\n",
       "1                             3353                                   1054   \n",
       "2                             2789                                    855   \n",
       "3                             2939                                   1141   \n",
       "4                             2689                                    823   \n",
       "5                             2590                                    857   \n",
       "6                             2637                                    793   \n",
       "7                             2532                                    743   \n",
       "8                             2534                                    816   \n",
       "9                             2606                                    793   \n",
       "10                            2634                                    906   \n",
       "\n",
       "Unnamed: 0 Creative, arts and entertainment activities  \\\n",
       "1                                                 1516   \n",
       "2                                                 1974   \n",
       "3                                                 1818   \n",
       "4                                                 1402   \n",
       "5                                                 1427   \n",
       "6                                                 1419   \n",
       "7                                                 1376   \n",
       "8                                                 1373   \n",
       "9                                                 1387   \n",
       "10                                                1418   \n",
       "\n",
       "Unnamed: 0 -one- or two family houses with consumption exceeding 10 000 kWh   \\\n",
       "1                                                       20024                  \n",
       "2                                                       20363                  \n",
       "3                                                       23080                  \n",
       "4                                                       19529                  \n",
       "5                                                       20719                  \n",
       "6                                                       20357                  \n",
       "7                                                       18931                  \n",
       "8                                                       19975                  \n",
       "9                                                       21210                  \n",
       "10                                                      22563                  \n",
       "\n",
       "Unnamed: 0 -one- or two family houses with consumption up  to 10 000 kWh   \\\n",
       "1                                                        5144               \n",
       "2                                                        4498               \n",
       "3                                                        4700               \n",
       "4                                                        4789               \n",
       "5                                                        4919               \n",
       "6                                                        4805               \n",
       "7                                                        4805               \n",
       "8                                                        4722               \n",
       "9                                                        4596               \n",
       "10                                                       4386               \n",
       "\n",
       "Unnamed: 0 -multi family houses, direct delivery, with consumption exceeding 5 000 kWh  \\\n",
       "1                                                        1131                            \n",
       "2                                                        1396                            \n",
       "3                                                        1461                            \n",
       "4                                                        1737                            \n",
       "5                                                        1598                            \n",
       "6                                                        1584                            \n",
       "7                                                        1363                            \n",
       "8                                                        1385                            \n",
       "9                                                        1436                            \n",
       "10                                                       1098                            \n",
       "\n",
       "Unnamed: 0 -multi family houses, direct delivery, with consumtion up to 5 000 kWh  \\\n",
       "1                                                        4347                       \n",
       "2                                                        4203                       \n",
       "3                                                        4276                       \n",
       "4                                                        4321                       \n",
       "5                                                        4219                       \n",
       "6                                                        4180                       \n",
       "7                                                        4193                       \n",
       "8                                                        4210                       \n",
       "9                                                        4195                       \n",
       "10                                                       4140                       \n",
       "\n",
       "Unnamed: 0 Second homes  \n",
       "1                  2320  \n",
       "2                  2998  \n",
       "3                  3263  \n",
       "4                  2749  \n",
       "5                  3043  \n",
       "6                  2964  \n",
       "7                  2851  \n",
       "8                  3047  \n",
       "9                  3212  \n",
       "10                 3040  \n",
       "\n",
       "[10 rows x 37 columns]"
      ]
     },
     "execution_count": 180,
     "metadata": {},
     "output_type": "execute_result"
    }
   ],
   "source": [
    "sweden_cons = sweden_cons.reset_index().rename(columns={\"index\":\"Year\"}).drop([0])\n",
    "sweden_cons"
   ]
  },
  {
   "cell_type": "code",
   "execution_count": 181,
   "metadata": {
    "ExecuteTime": {
     "end_time": "2019-11-15T03:17:20.745145Z",
     "start_time": "2019-11-15T03:17:19.415252Z"
    }
   },
   "outputs": [
    {
     "data": {
      "image/png": "[encoded data removed]",
      "text/plain": [
       "<Figure size 1080x360 with 1 Axes>"
      ]
     },
     "metadata": {
      "needs_background": "light"
     },
     "output_type": "display_data"
    }
   ],
   "source": [
    "sweden_cons.drop(\"Total electricity consumption\", axis=1).plot.line(figsize = [15,5], title = \"Consumption of Electricity, Sweden (2008-2017) in GWh\")\n",
    "plt.show()"
   ]
  },
  {
   "cell_type": "code",
   "execution_count": null,
   "metadata": {},
   "outputs": [],
   "source": []
  },
  {
   "cell_type": "code",
   "execution_count": null,
   "metadata": {},
   "outputs": [],
   "source": []
  }
 ],
 "metadata": {
  "kernelspec": {
   "display_name": "Python 3",
   "language": "python",
   "name": "python3"
  },
  "language_info": {
   "codemirror_mode": {
    "name": "ipython",
    "version": 3
   },
   "file_extension": ".py",
   "mimetype": "text/x-python",
   "name": "python",
   "nbconvert_exporter": "python",
   "pygments_lexer": "ipython3",
   "version": "3.7.5"
  }
 },
 "nbformat": 4,
 "nbformat_minor": 4
}
